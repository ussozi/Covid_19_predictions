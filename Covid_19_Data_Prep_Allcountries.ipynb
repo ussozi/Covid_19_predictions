{
 "cells": [
  {
   "cell_type": "markdown",
   "metadata": {
    "colab_type": "text",
    "id": "dg_X1Xdt1x06"
   },
   "source": [
    "# Covid-19  - Data Preparation\n",
    "\n",
    "This notebook shows how the data used to Predict the Global Spread of COVID-19 is derived. As this is an evolving situation, you may use all available data at a given time, and are encouraged to keep incorporating new data as it becomes available. \n",
    "\n",
    "In this notebook, we download the latest figures from https://github.com/CSSEGISandData/COVID-19, add some additional information, group by Country/Region, re-shape into the format required for submission and show how you can score your model on the latest data without needing to upload submissions to Zindi. "
   ]
  },
  {
   "cell_type": "markdown",
   "metadata": {
    "colab_type": "text",
    "id": "1KcNlVnK78Bd"
   },
   "source": [
    "## Downloading the Data\n",
    "\n",
    "The data has been curated by the Johns Hopkins University Center for Systems Science and Engineering (JHU CSSE), and is pubically available on their GitHub repository. We clone the repository to get the data.\n"
   ]
  },
  {
   "cell_type": "code",
   "execution_count": 6,
   "metadata": {
    "colab": {
     "base_uri": "https://localhost:8080/",
     "height": 34
    },
    "colab_type": "code",
    "id": "VMTjydxK1t9s",
    "outputId": "9cfc3961-1697-4ac2-f859-b04ca9367f05"
   },
   "outputs": [
    {
     "name": "stderr",
     "output_type": "stream",
     "text": [
      "Cloning into 'COVID-19'...\n",
      "Updating files:  39% (320/816)\n",
      "Updating files:  40% (327/816)\n",
      "Updating files:  41% (335/816)\n",
      "Updating files:  42% (343/816)\n",
      "Updating files:  43% (351/816)\n",
      "Updating files:  44% (360/816)\n",
      "Updating files:  45% (368/816)\n",
      "Updating files:  46% (376/816)\n",
      "Updating files:  47% (384/816)\n",
      "Updating files:  48% (392/816)\n",
      "Updating files:  49% (400/816)\n",
      "Updating files:  50% (408/816)\n",
      "Updating files:  51% (417/816)\n",
      "Updating files:  52% (425/816)\n",
      "Updating files:  53% (433/816)\n",
      "Updating files:  54% (441/816)\n",
      "Updating files:  55% (449/816)\n",
      "Updating files:  56% (457/816)\n",
      "Updating files:  57% (466/816)\n",
      "Updating files:  58% (474/816)\n",
      "Updating files:  59% (482/816)\n",
      "Updating files:  60% (490/816)\n",
      "Updating files:  61% (498/816)\n",
      "Updating files:  62% (506/816)\n",
      "Updating files:  63% (515/816)\n",
      "Updating files:  64% (523/816)\n",
      "Updating files:  65% (531/816)\n",
      "Updating files:  66% (539/816)\n",
      "Updating files:  67% (547/816)\n",
      "Updating files:  68% (555/816)\n",
      "Updating files:  69% (564/816)\n",
      "Updating files:  70% (572/816)\n",
      "Updating files:  71% (580/816)\n",
      "Updating files:  72% (588/816)\n",
      "Updating files:  73% (596/816)\n",
      "Updating files:  74% (604/816)\n",
      "Updating files:  75% (612/816)\n",
      "Updating files:  76% (621/816)\n",
      "Updating files:  77% (629/816)\n",
      "Updating files:  78% (637/816)\n",
      "Updating files:  79% (645/816)\n",
      "Updating files:  80% (653/816)\n",
      "Updating files:  81% (661/816)\n",
      "Updating files:  82% (670/816)\n",
      "Updating files:  83% (678/816)\n",
      "Updating files:  83% (684/816)\n",
      "Updating files:  84% (686/816)\n",
      "Updating files:  85% (694/816)\n",
      "Updating files:  86% (702/816)\n",
      "Updating files:  87% (710/816)\n",
      "Updating files:  88% (719/816)\n",
      "Updating files:  89% (727/816)\n",
      "Updating files:  90% (735/816)\n",
      "Updating files:  91% (743/816)\n",
      "Updating files:  92% (751/816)\n",
      "Updating files:  93% (759/816)\n",
      "Updating files:  94% (768/816)\n",
      "Updating files:  95% (776/816)\n",
      "Updating files:  96% (784/816)\n",
      "Updating files:  97% (792/816)\n",
      "Updating files:  97% (793/816)\n",
      "Updating files:  98% (800/816)\n",
      "Updating files:  99% (808/816)\n",
      "Updating files: 100% (816/816)\n",
      "Updating files: 100% (816/816), done.\n"
     ]
    }
   ],
   "source": [
    "# Get the latest data\n",
    "!git clone https://github.com/CSSEGISandData/COVID-19"
   ]
  },
  {
   "cell_type": "markdown",
   "metadata": {
    "colab_type": "text",
    "id": "SgDpdxpb2P3I"
   },
   "source": [
    "## Loading the Data"
   ]
  },
  {
   "cell_type": "code",
   "execution_count": 2,
   "metadata": {
    "colab": {},
    "colab_type": "code",
    "id": "uRmTOTRz2SkS"
   },
   "outputs": [],
   "source": [
    "import pandas as pd"
   ]
  },
  {
   "cell_type": "markdown",
   "metadata": {},
   "source": [
    "### Cases data"
   ]
  },
  {
   "cell_type": "code",
   "execution_count": 10,
   "metadata": {
    "colab": {
     "base_uri": "https://localhost:8080/",
     "height": 217
    },
    "colab_type": "code",
    "id": "IVEmPJ8r2ZJs",
    "outputId": "3f082127-ea58-45e1-e852-4dce1f631979"
   },
   "outputs": [
    {
     "data": {
      "text/html": [
       "<div>\n",
       "<style scoped>\n",
       "    .dataframe tbody tr th:only-of-type {\n",
       "        vertical-align: middle;\n",
       "    }\n",
       "\n",
       "    .dataframe tbody tr th {\n",
       "        vertical-align: top;\n",
       "    }\n",
       "\n",
       "    .dataframe thead th {\n",
       "        text-align: right;\n",
       "    }\n",
       "</style>\n",
       "<table border=\"1\" class=\"dataframe\">\n",
       "  <thead>\n",
       "    <tr style=\"text-align: right;\">\n",
       "      <th></th>\n",
       "      <th>Province/State</th>\n",
       "      <th>Country/Region</th>\n",
       "      <th>Lat</th>\n",
       "      <th>Long</th>\n",
       "      <th>1/22/20</th>\n",
       "      <th>1/23/20</th>\n",
       "      <th>1/24/20</th>\n",
       "      <th>1/25/20</th>\n",
       "      <th>1/26/20</th>\n",
       "      <th>1/27/20</th>\n",
       "      <th>...</th>\n",
       "      <th>12/11/20</th>\n",
       "      <th>12/12/20</th>\n",
       "      <th>12/13/20</th>\n",
       "      <th>12/14/20</th>\n",
       "      <th>12/15/20</th>\n",
       "      <th>12/16/20</th>\n",
       "      <th>12/17/20</th>\n",
       "      <th>12/18/20</th>\n",
       "      <th>12/19/20</th>\n",
       "      <th>12/20/20</th>\n",
       "    </tr>\n",
       "  </thead>\n",
       "  <tbody>\n",
       "    <tr>\n",
       "      <th>0</th>\n",
       "      <td>NaN</td>\n",
       "      <td>Afghanistan</td>\n",
       "      <td>33.93911</td>\n",
       "      <td>67.709953</td>\n",
       "      <td>0</td>\n",
       "      <td>0</td>\n",
       "      <td>0</td>\n",
       "      <td>0</td>\n",
       "      <td>0</td>\n",
       "      <td>0</td>\n",
       "      <td>...</td>\n",
       "      <td>48116</td>\n",
       "      <td>48229</td>\n",
       "      <td>48527</td>\n",
       "      <td>48718</td>\n",
       "      <td>48952</td>\n",
       "      <td>49161</td>\n",
       "      <td>49378</td>\n",
       "      <td>49621</td>\n",
       "      <td>49681</td>\n",
       "      <td>49817</td>\n",
       "    </tr>\n",
       "    <tr>\n",
       "      <th>1</th>\n",
       "      <td>NaN</td>\n",
       "      <td>Albania</td>\n",
       "      <td>41.15330</td>\n",
       "      <td>20.168300</td>\n",
       "      <td>0</td>\n",
       "      <td>0</td>\n",
       "      <td>0</td>\n",
       "      <td>0</td>\n",
       "      <td>0</td>\n",
       "      <td>0</td>\n",
       "      <td>...</td>\n",
       "      <td>46863</td>\n",
       "      <td>47742</td>\n",
       "      <td>48530</td>\n",
       "      <td>49191</td>\n",
       "      <td>50000</td>\n",
       "      <td>50637</td>\n",
       "      <td>51424</td>\n",
       "      <td>52004</td>\n",
       "      <td>52542</td>\n",
       "      <td>53003</td>\n",
       "    </tr>\n",
       "    <tr>\n",
       "      <th>2</th>\n",
       "      <td>NaN</td>\n",
       "      <td>Algeria</td>\n",
       "      <td>28.03390</td>\n",
       "      <td>1.659600</td>\n",
       "      <td>0</td>\n",
       "      <td>0</td>\n",
       "      <td>0</td>\n",
       "      <td>0</td>\n",
       "      <td>0</td>\n",
       "      <td>0</td>\n",
       "      <td>...</td>\n",
       "      <td>91121</td>\n",
       "      <td>91638</td>\n",
       "      <td>92102</td>\n",
       "      <td>92597</td>\n",
       "      <td>93065</td>\n",
       "      <td>93507</td>\n",
       "      <td>93933</td>\n",
       "      <td>94371</td>\n",
       "      <td>94781</td>\n",
       "      <td>95203</td>\n",
       "    </tr>\n",
       "    <tr>\n",
       "      <th>3</th>\n",
       "      <td>NaN</td>\n",
       "      <td>Andorra</td>\n",
       "      <td>42.50630</td>\n",
       "      <td>1.521800</td>\n",
       "      <td>0</td>\n",
       "      <td>0</td>\n",
       "      <td>0</td>\n",
       "      <td>0</td>\n",
       "      <td>0</td>\n",
       "      <td>0</td>\n",
       "      <td>...</td>\n",
       "      <td>7236</td>\n",
       "      <td>7288</td>\n",
       "      <td>7338</td>\n",
       "      <td>7382</td>\n",
       "      <td>7382</td>\n",
       "      <td>7446</td>\n",
       "      <td>7466</td>\n",
       "      <td>7519</td>\n",
       "      <td>7560</td>\n",
       "      <td>7577</td>\n",
       "    </tr>\n",
       "    <tr>\n",
       "      <th>4</th>\n",
       "      <td>NaN</td>\n",
       "      <td>Angola</td>\n",
       "      <td>-11.20270</td>\n",
       "      <td>17.873900</td>\n",
       "      <td>0</td>\n",
       "      <td>0</td>\n",
       "      <td>0</td>\n",
       "      <td>0</td>\n",
       "      <td>0</td>\n",
       "      <td>0</td>\n",
       "      <td>...</td>\n",
       "      <td>16061</td>\n",
       "      <td>16161</td>\n",
       "      <td>16188</td>\n",
       "      <td>16277</td>\n",
       "      <td>16362</td>\n",
       "      <td>16407</td>\n",
       "      <td>16484</td>\n",
       "      <td>16562</td>\n",
       "      <td>16626</td>\n",
       "      <td>16644</td>\n",
       "    </tr>\n",
       "  </tbody>\n",
       "</table>\n",
       "<p>5 rows × 338 columns</p>\n",
       "</div>"
      ],
      "text/plain": [
       "  Province/State Country/Region       Lat       Long  1/22/20  1/23/20  \\\n",
       "0            NaN    Afghanistan  33.93911  67.709953        0        0   \n",
       "1            NaN        Albania  41.15330  20.168300        0        0   \n",
       "2            NaN        Algeria  28.03390   1.659600        0        0   \n",
       "3            NaN        Andorra  42.50630   1.521800        0        0   \n",
       "4            NaN         Angola -11.20270  17.873900        0        0   \n",
       "\n",
       "   1/24/20  1/25/20  1/26/20  1/27/20  ...  12/11/20  12/12/20  12/13/20  \\\n",
       "0        0        0        0        0  ...     48116     48229     48527   \n",
       "1        0        0        0        0  ...     46863     47742     48530   \n",
       "2        0        0        0        0  ...     91121     91638     92102   \n",
       "3        0        0        0        0  ...      7236      7288      7338   \n",
       "4        0        0        0        0  ...     16061     16161     16188   \n",
       "\n",
       "   12/14/20  12/15/20  12/16/20  12/17/20  12/18/20  12/19/20  12/20/20  \n",
       "0     48718     48952     49161     49378     49621     49681     49817  \n",
       "1     49191     50000     50637     51424     52004     52542     53003  \n",
       "2     92597     93065     93507     93933     94371     94781     95203  \n",
       "3      7382      7382      7446      7466      7519      7560      7577  \n",
       "4     16277     16362     16407     16484     16562     16626     16644  \n",
       "\n",
       "[5 rows x 338 columns]"
      ]
     },
     "execution_count": 10,
     "metadata": {},
     "output_type": "execute_result"
    }
   ],
   "source": [
    "cases = pd.read_csv(r'C:/Users/ssoziu/Desktop/Data Insights/Covid 19 predictions/COVID-19/csse_covid_19_data/csse_covid_19_time_series/time_series_covid19_confirmed_global.csv')\n",
    "cases.head()"
   ]
  },
  {
   "cell_type": "markdown",
   "metadata": {},
   "source": [
    "### Deaths data"
   ]
  },
  {
   "cell_type": "code",
   "execution_count": 12,
   "metadata": {
    "colab": {
     "base_uri": "https://localhost:8080/",
     "height": 217
    },
    "colab_type": "code",
    "id": "xiuBvz2V2ley",
    "outputId": "76a81497-abc8-4c50-dfb0-9e93ffde2d3c"
   },
   "outputs": [
    {
     "data": {
      "text/html": [
       "<div>\n",
       "<style scoped>\n",
       "    .dataframe tbody tr th:only-of-type {\n",
       "        vertical-align: middle;\n",
       "    }\n",
       "\n",
       "    .dataframe tbody tr th {\n",
       "        vertical-align: top;\n",
       "    }\n",
       "\n",
       "    .dataframe thead th {\n",
       "        text-align: right;\n",
       "    }\n",
       "</style>\n",
       "<table border=\"1\" class=\"dataframe\">\n",
       "  <thead>\n",
       "    <tr style=\"text-align: right;\">\n",
       "      <th></th>\n",
       "      <th>Province/State</th>\n",
       "      <th>Country/Region</th>\n",
       "      <th>Lat</th>\n",
       "      <th>Long</th>\n",
       "      <th>1/22/20</th>\n",
       "      <th>1/23/20</th>\n",
       "      <th>1/24/20</th>\n",
       "      <th>1/25/20</th>\n",
       "      <th>1/26/20</th>\n",
       "      <th>1/27/20</th>\n",
       "      <th>...</th>\n",
       "      <th>12/11/20</th>\n",
       "      <th>12/12/20</th>\n",
       "      <th>12/13/20</th>\n",
       "      <th>12/14/20</th>\n",
       "      <th>12/15/20</th>\n",
       "      <th>12/16/20</th>\n",
       "      <th>12/17/20</th>\n",
       "      <th>12/18/20</th>\n",
       "      <th>12/19/20</th>\n",
       "      <th>12/20/20</th>\n",
       "    </tr>\n",
       "  </thead>\n",
       "  <tbody>\n",
       "    <tr>\n",
       "      <th>0</th>\n",
       "      <td>NaN</td>\n",
       "      <td>Afghanistan</td>\n",
       "      <td>33.93911</td>\n",
       "      <td>67.709953</td>\n",
       "      <td>0</td>\n",
       "      <td>0</td>\n",
       "      <td>0</td>\n",
       "      <td>0</td>\n",
       "      <td>0</td>\n",
       "      <td>0</td>\n",
       "      <td>...</td>\n",
       "      <td>1945</td>\n",
       "      <td>1956</td>\n",
       "      <td>1965</td>\n",
       "      <td>1969</td>\n",
       "      <td>1995</td>\n",
       "      <td>2011</td>\n",
       "      <td>2025</td>\n",
       "      <td>2030</td>\n",
       "      <td>2047</td>\n",
       "      <td>2067</td>\n",
       "    </tr>\n",
       "    <tr>\n",
       "      <th>1</th>\n",
       "      <td>NaN</td>\n",
       "      <td>Albania</td>\n",
       "      <td>41.15330</td>\n",
       "      <td>20.168300</td>\n",
       "      <td>0</td>\n",
       "      <td>0</td>\n",
       "      <td>0</td>\n",
       "      <td>0</td>\n",
       "      <td>0</td>\n",
       "      <td>0</td>\n",
       "      <td>...</td>\n",
       "      <td>977</td>\n",
       "      <td>989</td>\n",
       "      <td>1003</td>\n",
       "      <td>1016</td>\n",
       "      <td>1028</td>\n",
       "      <td>1040</td>\n",
       "      <td>1055</td>\n",
       "      <td>1066</td>\n",
       "      <td>1074</td>\n",
       "      <td>1088</td>\n",
       "    </tr>\n",
       "    <tr>\n",
       "      <th>2</th>\n",
       "      <td>NaN</td>\n",
       "      <td>Algeria</td>\n",
       "      <td>28.03390</td>\n",
       "      <td>1.659600</td>\n",
       "      <td>0</td>\n",
       "      <td>0</td>\n",
       "      <td>0</td>\n",
       "      <td>0</td>\n",
       "      <td>0</td>\n",
       "      <td>0</td>\n",
       "      <td>...</td>\n",
       "      <td>2575</td>\n",
       "      <td>2584</td>\n",
       "      <td>2596</td>\n",
       "      <td>2609</td>\n",
       "      <td>2623</td>\n",
       "      <td>2631</td>\n",
       "      <td>2640</td>\n",
       "      <td>2647</td>\n",
       "      <td>2659</td>\n",
       "      <td>2666</td>\n",
       "    </tr>\n",
       "    <tr>\n",
       "      <th>3</th>\n",
       "      <td>NaN</td>\n",
       "      <td>Andorra</td>\n",
       "      <td>42.50630</td>\n",
       "      <td>1.521800</td>\n",
       "      <td>0</td>\n",
       "      <td>0</td>\n",
       "      <td>0</td>\n",
       "      <td>0</td>\n",
       "      <td>0</td>\n",
       "      <td>0</td>\n",
       "      <td>...</td>\n",
       "      <td>78</td>\n",
       "      <td>78</td>\n",
       "      <td>79</td>\n",
       "      <td>79</td>\n",
       "      <td>79</td>\n",
       "      <td>79</td>\n",
       "      <td>79</td>\n",
       "      <td>80</td>\n",
       "      <td>80</td>\n",
       "      <td>81</td>\n",
       "    </tr>\n",
       "    <tr>\n",
       "      <th>4</th>\n",
       "      <td>NaN</td>\n",
       "      <td>Angola</td>\n",
       "      <td>-11.20270</td>\n",
       "      <td>17.873900</td>\n",
       "      <td>0</td>\n",
       "      <td>0</td>\n",
       "      <td>0</td>\n",
       "      <td>0</td>\n",
       "      <td>0</td>\n",
       "      <td>0</td>\n",
       "      <td>...</td>\n",
       "      <td>365</td>\n",
       "      <td>366</td>\n",
       "      <td>371</td>\n",
       "      <td>372</td>\n",
       "      <td>372</td>\n",
       "      <td>379</td>\n",
       "      <td>382</td>\n",
       "      <td>384</td>\n",
       "      <td>386</td>\n",
       "      <td>387</td>\n",
       "    </tr>\n",
       "  </tbody>\n",
       "</table>\n",
       "<p>5 rows × 338 columns</p>\n",
       "</div>"
      ],
      "text/plain": [
       "  Province/State Country/Region       Lat       Long  1/22/20  1/23/20  \\\n",
       "0            NaN    Afghanistan  33.93911  67.709953        0        0   \n",
       "1            NaN        Albania  41.15330  20.168300        0        0   \n",
       "2            NaN        Algeria  28.03390   1.659600        0        0   \n",
       "3            NaN        Andorra  42.50630   1.521800        0        0   \n",
       "4            NaN         Angola -11.20270  17.873900        0        0   \n",
       "\n",
       "   1/24/20  1/25/20  1/26/20  1/27/20  ...  12/11/20  12/12/20  12/13/20  \\\n",
       "0        0        0        0        0  ...      1945      1956      1965   \n",
       "1        0        0        0        0  ...       977       989      1003   \n",
       "2        0        0        0        0  ...      2575      2584      2596   \n",
       "3        0        0        0        0  ...        78        78        79   \n",
       "4        0        0        0        0  ...       365       366       371   \n",
       "\n",
       "   12/14/20  12/15/20  12/16/20  12/17/20  12/18/20  12/19/20  12/20/20  \n",
       "0      1969      1995      2011      2025      2030      2047      2067  \n",
       "1      1016      1028      1040      1055      1066      1074      1088  \n",
       "2      2609      2623      2631      2640      2647      2659      2666  \n",
       "3        79        79        79        79        80        80        81  \n",
       "4       372       372       379       382       384       386       387  \n",
       "\n",
       "[5 rows x 338 columns]"
      ]
     },
     "execution_count": 12,
     "metadata": {},
     "output_type": "execute_result"
    }
   ],
   "source": [
    "deaths = pd.read_csv(r'C:/Users/ssoziu/Desktop/Data Insights/Covid 19 predictions/COVID-19/csse_covid_19_data/csse_covid_19_time_series/time_series_covid19_deaths_global.csv')\n",
    "deaths.head()"
   ]
  },
  {
   "cell_type": "markdown",
   "metadata": {
    "colab_type": "text",
    "id": "ZXFzWEbo5QKn"
   },
   "source": [
    "# Adding All Countries \n",
    "This section will be updated as new Countries/Regions are added to the JHU data, to try and maintain a consistent mapping."
   ]
  },
  {
   "cell_type": "code",
   "execution_count": 14,
   "metadata": {
    "colab": {
     "base_uri": "https://localhost:8080/",
     "height": 70
    },
    "colab_type": "code",
    "id": "a_4tM1YM5oLX",
    "outputId": "97729fda-f667-47f9-8be7-23b3915ebe71"
   },
   "outputs": [
    {
     "name": "stderr",
     "output_type": "stream",
     "text": [
      "  % Total    % Received % Xferd  Average Speed   Time    Time     Time  Current\n",
      "                                 Dload  Upload   Total   Spent    Left  Speed\n",
      "\n",
      "  0     0    0     0    0     0      0      0 --:--:-- --:--:-- --:--:--     0\n",
      "  0     0    0     0    0     0      0      0 --:--:-- --:--:-- --:--:--     0\n",
      "  0     0    0     0    0     0      0      0 --:--:--  0:00:02 --:--:--     0\n",
      "  0     0    0     0    0     0      0      0 --:--:--  0:00:02 --:--:--     0\n",
      "100 11184  100 11184    0     0   3804      0  0:00:02  0:00:02 --:--:--  3802\n"
     ]
    }
   ],
   "source": [
    "# Download a list of countries from the UN\n",
    "!curl -o EF.xlsx https://untermportal.un.org/unterm/country/downloadfile?targetLanguage=fr"
   ]
  },
  {
   "cell_type": "code",
   "execution_count": 15,
   "metadata": {
    "colab": {
     "base_uri": "https://localhost:8080/",
     "height": 107
    },
    "colab_type": "code",
    "id": "_thOvfuM5yTM",
    "outputId": "aca96da7-175a-44e6-eddb-133f4cc5ef63"
   },
   "outputs": [
    {
     "data": {
      "text/html": [
       "<div>\n",
       "<style scoped>\n",
       "    .dataframe tbody tr th:only-of-type {\n",
       "        vertical-align: middle;\n",
       "    }\n",
       "\n",
       "    .dataframe tbody tr th {\n",
       "        vertical-align: top;\n",
       "    }\n",
       "\n",
       "    .dataframe thead th {\n",
       "        text-align: right;\n",
       "    }\n",
       "</style>\n",
       "<table border=\"1\" class=\"dataframe\">\n",
       "  <thead>\n",
       "    <tr style=\"text-align: right;\">\n",
       "      <th></th>\n",
       "      <th>English short</th>\n",
       "      <th>French short</th>\n",
       "      <th>English formal</th>\n",
       "      <th>French formal</th>\n",
       "    </tr>\n",
       "  </thead>\n",
       "  <tbody>\n",
       "    <tr>\n",
       "      <th>0</th>\n",
       "      <td>Afghanistan</td>\n",
       "      <td>Afghanistan (l')</td>\n",
       "      <td>the Islamic Republic of Afghanistan</td>\n",
       "      <td>la République islamique d'Afghanistan</td>\n",
       "    </tr>\n",
       "    <tr>\n",
       "      <th>1</th>\n",
       "      <td>Albania</td>\n",
       "      <td>Albanie (l')</td>\n",
       "      <td>the Republic of Albania</td>\n",
       "      <td>la République d'Albanie</td>\n",
       "    </tr>\n",
       "  </tbody>\n",
       "</table>\n",
       "</div>"
      ],
      "text/plain": [
       "  English short      French short                       English formal  \\\n",
       "0   Afghanistan  Afghanistan (l')  the Islamic Republic of Afghanistan   \n",
       "1       Albania      Albanie (l')              the Republic of Albania   \n",
       "\n",
       "                           French formal  \n",
       "0  la République islamique d'Afghanistan  \n",
       "1                la République d'Albanie  "
      ]
     },
     "execution_count": 15,
     "metadata": {},
     "output_type": "execute_result"
    }
   ],
   "source": [
    "countries = pd.read_excel('EF.xlsx')[:193]\n",
    "countries.head(2)"
   ]
  },
  {
   "cell_type": "markdown",
   "metadata": {},
   "source": [
    "### Data formatting"
   ]
  },
  {
   "cell_type": "code",
   "execution_count": 16,
   "metadata": {
    "colab": {
     "base_uri": "https://localhost:8080/",
     "height": 52
    },
    "colab_type": "code",
    "id": "blcVe1JB6lML",
    "outputId": "e0343773-b5bf-48f2-c192-280ed43a14c0"
   },
   "outputs": [
    {
     "name": "stdout",
     "output_type": "stream",
     "text": [
      "(271, 338) (191,)\n",
      "(157,)\n"
     ]
    }
   ],
   "source": [
    "# Which regions in the JHU data have direct matches in countries?\n",
    "print(deaths.shape, deaths['Country/Region'].unique().shape)\n",
    "print(deaths.loc[deaths['Country/Region'].isin(countries['English short'].values)]['Country/Region'].unique().shape)"
   ]
  },
  {
   "cell_type": "code",
   "execution_count": 17,
   "metadata": {
    "colab": {},
    "colab_type": "code",
    "id": "IwsNF0eA7qMM"
   },
   "outputs": [],
   "source": [
    "# For those with direct matches, add a new column ['Territory']\n",
    "deaths['Territory'] = ''\n",
    "for c in deaths.loc[deaths['Country/Region'].isin(countries['English short'].values)]['Country/Region'].unique():\n",
    "  deaths.loc[deaths['Country/Region'] == c, 'Territory'] = c\n",
    "\n",
    "# Same for cases\n",
    "cases['Territory'] = ''\n",
    "for c in cases.loc[cases['Country/Region'].isin(countries['English short'].values)]['Country/Region'].unique():\n",
    "  cases.loc[cases['Country/Region'] == c, 'Territory'] = c\n",
    "\n",
    "deaths.loc[deaths['Country/Region']=='Taiwan*', 'Territory'] = 'Taiwan'\n",
    "cases.loc[cases['Country/Region']=='Taiwan*', 'Territory'] = 'Taiwan'"
   ]
  },
  {
   "cell_type": "code",
   "execution_count": 18,
   "metadata": {
    "colab": {
     "base_uri": "https://localhost:8080/",
     "height": 123
    },
    "colab_type": "code",
    "id": "B3CsXrbu7Yp-",
    "outputId": "9405ceda-3b5e-4c76-f779-ab0fe347c32d"
   },
   "outputs": [
    {
     "name": "stdout",
     "output_type": "stream",
     "text": [
      "['Bahamas' 'Bolivia' 'Brunei' 'Burma' 'Central African Republic' 'Comoros'\n",
      " 'Congo (Brazzaville)' 'Congo (Kinshasa)' \"Cote d'Ivoire\"\n",
      " 'Diamond Princess' 'Dominican Republic' 'Gambia' 'Holy See' 'Iran'\n",
      " 'Korea, South' 'Kosovo' 'Laos' 'MS Zaandam' 'Marshall Islands' 'Moldova'\n",
      " 'Netherlands' 'Niger' 'Philippines' 'Russia' 'Sudan' 'Syria' 'Taiwan*'\n",
      " 'Tanzania' 'US' 'United Arab Emirates' 'United Kingdom' 'Venezuela'\n",
      " 'Vietnam' 'West Bank and Gaza']\n"
     ]
    }
   ],
   "source": [
    "# The problem ones we need to reconcile manually:\n",
    "print(deaths.loc[~deaths['Country/Region'].isin(countries['English short'].values)]['Country/Region'].unique())"
   ]
  },
  {
   "cell_type": "code",
   "execution_count": 19,
   "metadata": {
    "colab": {
     "base_uri": "https://localhost:8080/",
     "height": 123
    },
    "colab_type": "code",
    "id": "CQ5O4jvY8Je2",
    "outputId": "3431008d-1dc5-4ed1-d85a-046108529249"
   },
   "outputs": [
    {
     "name": "stdout",
     "output_type": "stream",
     "text": [
      "Dropping ['Burma' 'Comoros' 'Diamond Princess' 'Holy See' 'Kosovo' 'MS Zaandam'\n",
      " 'Marshall Islands' 'West Bank and Gaza']\n",
      "(271, 339)\n",
      "(263, 339)\n",
      "Dropping ['Burma' 'Comoros' 'Diamond Princess' 'Holy See' 'Kosovo' 'MS Zaandam'\n",
      " 'Marshall Islands' 'West Bank and Gaza']\n",
      "(271, 339)\n",
      "(263, 339)\n"
     ]
    }
   ],
   "source": [
    "# Add them manually:\n",
    "deaths.loc[deaths['Country/Region'] == 'United Arab Emirates', 'Territory'] = 'United Arab Emirates (the)'\n",
    "deaths.loc[deaths['Country/Region'] == 'Philippines', 'Territory'] = 'Philippines (the)'\n",
    "deaths.loc[deaths['Country/Region'] == 'Dominican Republic', 'Territory'] = 'Dominican Republic (the)'\n",
    "deaths.loc[deaths['Country/Region'] == 'Brunei', 'Territory'] = 'Brunei Darussalam'\n",
    "deaths.loc[deaths['Country/Region'] == 'US', 'Territory'] = 'United States of America (the)'\n",
    "deaths.loc[deaths['Country/Region'] == 'Iran', 'Territory'] = 'Iran (Islamic Republic of)'\n",
    "deaths.loc[deaths['Country/Region'] == 'Korea, South', 'Territory'] = \"Democratic People's Republic of Korea (the)\" # IS this right?\n",
    "deaths.loc[deaths['Country/Region'] == 'Vietnam', 'Territory'] = 'Viet Nam'\n",
    "deaths.loc[deaths['Country/Region'] == 'Russia', 'Territory'] = 'Russian Federation (the)'\n",
    "deaths.loc[deaths['Country/Region'] == 'Moldova', 'Territory'] = 'Republic of Moldova (the)'\n",
    "deaths.loc[deaths['Country/Region'] == 'Bolivia', 'Territory'] = 'Bolivia (Plurinational State of)'\n",
    "deaths.loc[deaths['Country/Region'] == 'United Kingdom', 'Territory'] = 'United Kingdom of Great Britain and Northern Ireland (the)'\n",
    "deaths.loc[deaths['Country/Region'] == 'Congo (Kinshasa)', 'Territory'] = 'Democratic Republic of the Congo (the)' # <<< Please check\n",
    "deaths.loc[deaths['Country/Region'] == \"Cote d'Ivoire\", 'Territory'] = \"Côte d'Ivoire\"\n",
    "deaths.loc[deaths['Country/Region'] == 'Sudan', 'Territory'] = \"South Sudan\" #?\n",
    "deaths.loc[deaths['Country/Region'] == 'Venezuela', 'Territory'] = \"Venezuela (Bolivarian Republic of)\"\n",
    "deaths.loc[deaths['Country/Region'] == 'Central African Republic', 'Territory'] = 'Central African Republic (the)'\n",
    "deaths.loc[deaths['Country/Region'] == 'Congo (Brazzaville)', 'Territory'] = 'Congo (the)'\n",
    "deaths.loc[deaths['Country/Region'] == 'Netherlands', 'Territory'] = 'Netherlands (the)'\n",
    "deaths.loc[deaths['Country/Region'] == 'Tanzania', 'Territory'] = 'United Republic of Tanzania (the)'\n",
    "deaths.loc[deaths['Country/Region'] == 'Gambia', 'Territory'] = 'Gambia (the)'\n",
    "deaths.loc[deaths['Country/Region'] == 'Bahamas', 'Territory'] = 'Bahamas (the)'\n",
    "deaths.loc[deaths['Country/Region'] == 'Niger', 'Territory'] = 'Niger (the)'\n",
    "deaths.loc[deaths['Country/Region'] == 'Syria', 'Territory'] = 'Syrian Arab Republic (the)'\n",
    "deaths.loc[deaths['Country/Region'] == 'Laos', 'Territory'] = \"Lao People's Democratic Republic (the)\"\n",
    "\n",
    "# Drop those without a country match (!! - check output to make sure we aren't missing new additions)\n",
    "print('Dropping', deaths.loc[deaths['Territory'] == '']['Country/Region'].unique())\n",
    "print(deaths.shape)\n",
    "deaths=deaths.loc[deaths['Territory']!= '']\n",
    "print(deaths.shape)\n",
    "\n",
    "# And for cases\n",
    "# Add them manually:\n",
    "cases.loc[cases['Country/Region'] == 'United Arab Emirates', 'Territory'] = 'United Arab Emirates (the)'\n",
    "cases.loc[cases['Country/Region'] == 'Philippines', 'Territory'] = 'Philippines (the)'\n",
    "cases.loc[cases['Country/Region'] == 'Dominican Republic', 'Territory'] = 'Dominican Republic (the)'\n",
    "cases.loc[cases['Country/Region'] == 'Brunei', 'Territory'] = 'Brunei Darussalam'\n",
    "cases.loc[cases['Country/Region'] == 'US', 'Territory'] = 'United States of America (the)'\n",
    "cases.loc[cases['Country/Region'] == 'Iran', 'Territory'] = 'Iran (Islamic Republic of)'\n",
    "cases.loc[cases['Country/Region'] == 'Korea, South', 'Territory'] = \"Democratic People's Republic of Korea (the)\" # IS this right?\n",
    "cases.loc[cases['Country/Region'] == 'Vietnam', 'Territory'] = 'Viet Nam'\n",
    "cases.loc[cases['Country/Region'] == 'Russia', 'Territory'] = 'Russian Federation (the)'\n",
    "cases.loc[cases['Country/Region'] == 'Moldova', 'Territory'] = 'Republic of Moldova (the)'\n",
    "cases.loc[cases['Country/Region'] == 'Bolivia', 'Territory'] = 'Bolivia (Plurinational State of)'\n",
    "cases.loc[cases['Country/Region'] == 'United Kingdom', 'Territory'] = 'United Kingdom of Great Britain and Northern Ireland (the)'\n",
    "cases.loc[cases['Country/Region'] == 'Congo (Kinshasa)', 'Territory'] = 'Democratic Republic of the Congo (the)' # <<< Please check\n",
    "cases.loc[cases['Country/Region'] == \"Cote d'Ivoire\", 'Territory'] = \"Côte d'Ivoire\"\n",
    "cases.loc[cases['Country/Region'] == 'Sudan', 'Territory'] = \"South Sudan\" #?\n",
    "cases.loc[cases['Country/Region'] == 'Venezuela', 'Territory'] = \"Venezuela (Bolivarian Republic of)\"\n",
    "cases.loc[cases['Country/Region'] == 'Central African Republic', 'Territory'] = 'Central African Republic (the)'\n",
    "cases.loc[cases['Country/Region'] == 'Congo (Brazzaville)', 'Territory'] = 'Congo (the)'\n",
    "cases.loc[cases['Country/Region'] == 'Netherlands', 'Territory'] = 'Netherlands (the)'\n",
    "cases.loc[cases['Country/Region'] == 'Tanzania', 'Territory'] = 'United Republic of Tanzania (the)'\n",
    "cases.loc[cases['Country/Region'] == 'Gambia', 'Territory'] = 'Gambia (the)'\n",
    "cases.loc[cases['Country/Region'] == 'Bahamas', 'Territory'] = 'Bahamas (the)'\n",
    "cases.loc[cases['Country/Region'] == 'Niger', 'Territory'] = 'Niger (the)'\n",
    "cases.loc[cases['Country/Region'] == 'Syria', 'Territory'] = 'Syrian Arab Republic (the)'\n",
    "cases.loc[cases['Country/Region'] == 'Laos', 'Territory'] = \"Lao People's Democratic Republic (the)\"\n",
    "\n",
    "# Drop those without a country match (!! - check output to make sure we aren't missing new additions)\n",
    "print('Dropping', cases.loc[cases['Territory'] == '']['Country/Region'].unique())\n",
    "print(cases.shape)\n",
    "cases=cases.loc[cases['Territory']!= '']\n",
    "print(cases.shape)"
   ]
  },
  {
   "cell_type": "code",
   "execution_count": 20,
   "metadata": {
    "colab": {
     "base_uri": "https://localhost:8080/",
     "height": 141
    },
    "colab_type": "code",
    "id": "pKS0koG1AkSL",
    "outputId": "4d7bfe5d-4dc9-46c9-a0c4-ab362fc8a04b"
   },
   "outputs": [
    {
     "name": "stdout",
     "output_type": "stream",
     "text": [
      "Adding: ['Comoros (the)' 'Kiribati' 'Marshall Islands (the)'\n",
      " 'Micronesia (Federated States of)' 'Myanmar' 'Nauru' 'Palau'\n",
      " 'Republic of Korea (the)' 'Sudan (the)' 'Tonga' 'Turkmenistan' 'Tuvalu']\n",
      "(275, 339)\n",
      "(275, 339)\n"
     ]
    }
   ],
   "source": [
    "# Add the rest of the countries with cases set to 0 (!! Use with caution as data may be unreported)\n",
    "import numpy as np\n",
    "\n",
    "remainder = countries.loc[~countries['English short'].isin(deaths.Territory.unique())]\n",
    "print('Adding:', remainder['English short'].unique())\n",
    "for c in remainder['English short'].unique():\n",
    "  row = pd.Series([0 for _ in range(len(deaths.columns))])\n",
    "  row_df = pd.DataFrame([row])\n",
    "  row_df.columns = deaths.columns\n",
    "  row_df['Country/Region'] = c\n",
    "  row_df['Territory'] = c\n",
    "  deaths = pd.concat([deaths, row_df], ignore_index=True)\n",
    "print(deaths.shape)\n",
    "\n",
    "# And for cases\n",
    "for c in remainder['English short'].unique():\n",
    "  row = pd.Series([0 for _ in range(len(cases.columns))])\n",
    "  row_df = pd.DataFrame([row])\n",
    "  row_df.columns = cases.columns\n",
    "  row_df['Country/Region'] = c\n",
    "  row_df['Territory'] = c\n",
    "  cases = pd.concat([cases, row_df], ignore_index=True)\n",
    "print(cases.shape)"
   ]
  },
  {
   "cell_type": "markdown",
   "metadata": {
    "colab_type": "text",
    "id": "jZzz6IEjUUp9"
   },
   "source": [
    "# Splitting out some regions into their own territories\n",
    "\n",
    "Some regions are listed as part of one country, but due to geography or politics can be considered a separate entity. Without getting too political, let's separate out a few of these."
   ]
  },
  {
   "cell_type": "code",
   "execution_count": 21,
   "metadata": {
    "colab": {},
    "colab_type": "code",
    "id": "_55vPWa3UlJ7"
   },
   "outputs": [],
   "source": [
    "# Taiwan, St. Martin, Faroe Islands, St. Barthelemy, French Polynesia, French Guiana, Mayotte, Guadeloupe, Curacao, Cayman Islands, Reunion, Aruba, monserrat, Greenland, new caledonia, Bermuda.\n",
    "for r in ['St Martin', 'Faroe Islands', 'Saint Barthelemy', 'French Polynesia', 'French Guiana', 'Mayotte',\n",
    "          'Guadeloupe', 'Curacao', 'Cayman Islands', 'Reunion', 'Aruba', 'Montserrat', 'Greenland', 'New Caledonia', 'Bermuda']:\n",
    "  if deaths.loc[deaths['Province/State']==r].shape[0]<1:\n",
    "    print(r)\n",
    "  deaths.loc[deaths['Province/State']==r, 'Territory'] = r\n",
    "  cases.loc[cases['Province/State']==r, 'Territory'] = r\n"
   ]
  },
  {
   "cell_type": "markdown",
   "metadata": {
    "colab_type": "text",
    "id": "u7oigEIXjKW0"
   },
   "source": [
    "## Adding Population info\n",
    "\n",
    "This is optional, but this section adds population info. Use with caution, and feel free to make manual corrections. "
   ]
  },
  {
   "cell_type": "code",
   "execution_count": 24,
   "metadata": {
    "colab": {
     "base_uri": "https://localhost:8080/",
     "height": 34
    },
    "colab_type": "code",
    "id": "lnRlRHcQjTqb",
    "outputId": "1688bc23-c417-4d31-9b2d-064388f49026"
   },
   "outputs": [
    {
     "name": "stdout",
     "output_type": "stream",
     "text": [
      "Collecting countryinfo\n",
      "  Downloading countryinfo-0.1.2-py3-none-any.whl (602 kB)\n",
      "Installing collected packages: countryinfo\n",
      "Successfully installed countryinfo-0.1.2\n"
     ]
    }
   ],
   "source": [
    "# Run if needed\n",
    "!pip install countryinfo "
   ]
  },
  {
   "cell_type": "code",
   "execution_count": 25,
   "metadata": {
    "colab": {
     "base_uri": "https://localhost:8080/",
     "height": 781
    },
    "colab_type": "code",
    "id": "CMsl3SK2i6xJ",
    "outputId": "d742ace0-de24-4a0e-a242-68034bdb79fe"
   },
   "outputs": [
    {
     "name": "stdout",
     "output_type": "stream",
     "text": [
      "No pop data for Andorra\n",
      "No pop data for Bahamas (the)\n",
      "No pop data for Bolivia (Plurinational State of)\n",
      "No pop data for Brunei Darussalam\n",
      "No pop data for Cabo Verde\n",
      "No pop data for Central African Republic (the)\n",
      "No pop data for Comoros (the)\n",
      "No pop data for Congo (the)\n",
      "No pop data for Curacao\n",
      "No pop data for Czechia\n",
      "No pop data for Côte d'Ivoire\n",
      "No pop data for Democratic People's Republic of Korea (the)\n",
      "No pop data for Democratic Republic of the Congo (the)\n",
      "No pop data for Dominican Republic (the)\n",
      "No pop data for Eswatini\n",
      "No pop data for Gambia (the)\n",
      "No pop data for Iran (Islamic Republic of)\n",
      "No pop data for Lao People's Democratic Republic (the)\n",
      "No pop data for Marshall Islands (the)\n",
      "No pop data for Micronesia (Federated States of)\n",
      "No pop data for Montenegro\n",
      "No pop data for Myanmar\n",
      "No pop data for Netherlands (the)\n",
      "No pop data for Niger (the)\n",
      "No pop data for North Macedonia\n",
      "No pop data for Philippines (the)\n",
      "No pop data for Republic of Korea (the)\n",
      "No pop data for Republic of Moldova (the)\n",
      "No pop data for Russian Federation (the)\n",
      "No pop data for Saint Barthelemy\n",
      "No pop data for Sao Tome and Principe\n",
      "No pop data for St Martin\n",
      "No pop data for Sudan (the)\n",
      "No pop data for Syrian Arab Republic (the)\n",
      "No pop data for Timor-Leste\n",
      "No pop data for United Arab Emirates (the)\n",
      "No pop data for United Kingdom of Great Britain and Northern Ireland (the)\n",
      "No pop data for United Republic of Tanzania (the)\n",
      "No pop data for United States of America (the)\n",
      "No pop data for Venezuela (Bolivarian Republic of)\n",
      "No pop data for Viet Nam\n"
     ]
    }
   ],
   "source": [
    "from countryinfo import CountryInfo\n",
    "\n",
    "pops = {}\n",
    "fails = []\n",
    "\n",
    "regions = sorted(deaths['Territory'].unique())\n",
    "for r in regions:\n",
    "  try:\n",
    "    country = CountryInfo(r)\n",
    "    pops[r] = country.info()['population']\n",
    "  except:\n",
    "    fails.append(r)\n",
    "    print('No pop data for', r)"
   ]
  },
  {
   "cell_type": "code",
   "execution_count": 26,
   "metadata": {
    "colab": {
     "base_uri": "https://localhost:8080/",
     "height": 217
    },
    "colab_type": "code",
    "id": "Um80xaiIoX07",
    "outputId": "e4f29131-b72b-4a8d-c8f2-0e74597751f2"
   },
   "outputs": [
    {
     "data": {
      "text/html": [
       "<div>\n",
       "<style scoped>\n",
       "    .dataframe tbody tr th:only-of-type {\n",
       "        vertical-align: middle;\n",
       "    }\n",
       "\n",
       "    .dataframe tbody tr th {\n",
       "        vertical-align: top;\n",
       "    }\n",
       "\n",
       "    .dataframe thead th {\n",
       "        text-align: right;\n",
       "    }\n",
       "</style>\n",
       "<table border=\"1\" class=\"dataframe\">\n",
       "  <thead>\n",
       "    <tr style=\"text-align: right;\">\n",
       "      <th></th>\n",
       "      <th>Province/State</th>\n",
       "      <th>Country/Region</th>\n",
       "      <th>Territory</th>\n",
       "      <th>Population</th>\n",
       "      <th>Lat</th>\n",
       "      <th>Long</th>\n",
       "      <th>1/22/20</th>\n",
       "      <th>1/23/20</th>\n",
       "      <th>1/24/20</th>\n",
       "      <th>1/25/20</th>\n",
       "      <th>...</th>\n",
       "      <th>12/11/20</th>\n",
       "      <th>12/12/20</th>\n",
       "      <th>12/13/20</th>\n",
       "      <th>12/14/20</th>\n",
       "      <th>12/15/20</th>\n",
       "      <th>12/16/20</th>\n",
       "      <th>12/17/20</th>\n",
       "      <th>12/18/20</th>\n",
       "      <th>12/19/20</th>\n",
       "      <th>12/20/20</th>\n",
       "    </tr>\n",
       "  </thead>\n",
       "  <tbody>\n",
       "    <tr>\n",
       "      <th>0</th>\n",
       "      <td>NaN</td>\n",
       "      <td>Afghanistan</td>\n",
       "      <td>Afghanistan</td>\n",
       "      <td>26023100.0</td>\n",
       "      <td>33.93911</td>\n",
       "      <td>67.709953</td>\n",
       "      <td>0</td>\n",
       "      <td>0</td>\n",
       "      <td>0</td>\n",
       "      <td>0</td>\n",
       "      <td>...</td>\n",
       "      <td>1945</td>\n",
       "      <td>1956</td>\n",
       "      <td>1965</td>\n",
       "      <td>1969</td>\n",
       "      <td>1995</td>\n",
       "      <td>2011</td>\n",
       "      <td>2025</td>\n",
       "      <td>2030</td>\n",
       "      <td>2047</td>\n",
       "      <td>2067</td>\n",
       "    </tr>\n",
       "    <tr>\n",
       "      <th>1</th>\n",
       "      <td>NaN</td>\n",
       "      <td>Albania</td>\n",
       "      <td>Albania</td>\n",
       "      <td>2895947.0</td>\n",
       "      <td>41.15330</td>\n",
       "      <td>20.168300</td>\n",
       "      <td>0</td>\n",
       "      <td>0</td>\n",
       "      <td>0</td>\n",
       "      <td>0</td>\n",
       "      <td>...</td>\n",
       "      <td>977</td>\n",
       "      <td>989</td>\n",
       "      <td>1003</td>\n",
       "      <td>1016</td>\n",
       "      <td>1028</td>\n",
       "      <td>1040</td>\n",
       "      <td>1055</td>\n",
       "      <td>1066</td>\n",
       "      <td>1074</td>\n",
       "      <td>1088</td>\n",
       "    </tr>\n",
       "    <tr>\n",
       "      <th>2</th>\n",
       "      <td>NaN</td>\n",
       "      <td>Algeria</td>\n",
       "      <td>Algeria</td>\n",
       "      <td>38700000.0</td>\n",
       "      <td>28.03390</td>\n",
       "      <td>1.659600</td>\n",
       "      <td>0</td>\n",
       "      <td>0</td>\n",
       "      <td>0</td>\n",
       "      <td>0</td>\n",
       "      <td>...</td>\n",
       "      <td>2575</td>\n",
       "      <td>2584</td>\n",
       "      <td>2596</td>\n",
       "      <td>2609</td>\n",
       "      <td>2623</td>\n",
       "      <td>2631</td>\n",
       "      <td>2640</td>\n",
       "      <td>2647</td>\n",
       "      <td>2659</td>\n",
       "      <td>2666</td>\n",
       "    </tr>\n",
       "    <tr>\n",
       "      <th>3</th>\n",
       "      <td>NaN</td>\n",
       "      <td>Andorra</td>\n",
       "      <td>Andorra</td>\n",
       "      <td>NaN</td>\n",
       "      <td>42.50630</td>\n",
       "      <td>1.521800</td>\n",
       "      <td>0</td>\n",
       "      <td>0</td>\n",
       "      <td>0</td>\n",
       "      <td>0</td>\n",
       "      <td>...</td>\n",
       "      <td>78</td>\n",
       "      <td>78</td>\n",
       "      <td>79</td>\n",
       "      <td>79</td>\n",
       "      <td>79</td>\n",
       "      <td>79</td>\n",
       "      <td>79</td>\n",
       "      <td>80</td>\n",
       "      <td>80</td>\n",
       "      <td>81</td>\n",
       "    </tr>\n",
       "    <tr>\n",
       "      <th>4</th>\n",
       "      <td>NaN</td>\n",
       "      <td>Angola</td>\n",
       "      <td>Angola</td>\n",
       "      <td>24383301.0</td>\n",
       "      <td>-11.20270</td>\n",
       "      <td>17.873900</td>\n",
       "      <td>0</td>\n",
       "      <td>0</td>\n",
       "      <td>0</td>\n",
       "      <td>0</td>\n",
       "      <td>...</td>\n",
       "      <td>365</td>\n",
       "      <td>366</td>\n",
       "      <td>371</td>\n",
       "      <td>372</td>\n",
       "      <td>372</td>\n",
       "      <td>379</td>\n",
       "      <td>382</td>\n",
       "      <td>384</td>\n",
       "      <td>386</td>\n",
       "      <td>387</td>\n",
       "    </tr>\n",
       "  </tbody>\n",
       "</table>\n",
       "<p>5 rows × 340 columns</p>\n",
       "</div>"
      ],
      "text/plain": [
       "  Province/State Country/Region    Territory  Population       Lat       Long  \\\n",
       "0            NaN    Afghanistan  Afghanistan  26023100.0  33.93911  67.709953   \n",
       "1            NaN        Albania      Albania   2895947.0  41.15330  20.168300   \n",
       "2            NaN        Algeria      Algeria  38700000.0  28.03390   1.659600   \n",
       "3            NaN        Andorra      Andorra         NaN  42.50630   1.521800   \n",
       "4            NaN         Angola       Angola  24383301.0 -11.20270  17.873900   \n",
       "\n",
       "   1/22/20  1/23/20  1/24/20  1/25/20  ...  12/11/20  12/12/20  12/13/20  \\\n",
       "0        0        0        0        0  ...      1945      1956      1965   \n",
       "1        0        0        0        0  ...       977       989      1003   \n",
       "2        0        0        0        0  ...      2575      2584      2596   \n",
       "3        0        0        0        0  ...        78        78        79   \n",
       "4        0        0        0        0  ...       365       366       371   \n",
       "\n",
       "   12/14/20  12/15/20  12/16/20  12/17/20  12/18/20  12/19/20  12/20/20  \n",
       "0      1969      1995      2011      2025      2030      2047      2067  \n",
       "1      1016      1028      1040      1055      1066      1074      1088  \n",
       "2      2609      2623      2631      2640      2647      2659      2666  \n",
       "3        79        79        79        79        80        80        81  \n",
       "4       372       372       379       382       384       386       387  \n",
       "\n",
       "[5 rows x 340 columns]"
      ]
     },
     "execution_count": 26,
     "metadata": {},
     "output_type": "execute_result"
    }
   ],
   "source": [
    "# Adding in population as a column\n",
    "cols = list(deaths.columns)\n",
    "deaths['Population'] = deaths['Country/Region'].map(pops)\n",
    "deaths = deaths[cols[:2]+['Territory','Population']+cols[2:-1]] # Better ordering\n",
    "deaths.head()"
   ]
  },
  {
   "cell_type": "markdown",
   "metadata": {
    "colab_type": "text",
    "id": "Q98z86uA25dx"
   },
   "source": [
    "## Some Quick Visualizations"
   ]
  },
  {
   "cell_type": "code",
   "execution_count": 30,
   "metadata": {
    "colab": {
     "base_uri": "https://localhost:8080/",
     "height": 282
    },
    "colab_type": "code",
    "id": "j3mXkHha2qm-",
    "outputId": "9ffc4580-2a87-4895-e56f-7ef6452eca89"
   },
   "outputs": [
    {
     "data": {
      "text/plain": [
       "<matplotlib.axes._subplots.AxesSubplot at 0x223f983eb80>"
      ]
     },
     "execution_count": 30,
     "metadata": {},
     "output_type": "execute_result"
    },
    {
     "data": {
      "image/png": "[encoded data removed]",
      "text/plain": [
       "<Figure size 432x288 with 1 Axes>"
      ]
     },
     "metadata": {
      "needs_background": "light"
     },
     "output_type": "display_data"
    }
   ],
   "source": [
    "# Cases for mainland China (note - data is cumulative)\n",
    "cases.groupby('Territory').sum().loc['China'][3:].plot()"
   ]
  },
  {
   "cell_type": "code",
   "execution_count": 0,
   "metadata": {
    "colab": {
     "base_uri": "https://localhost:8080/",
     "height": 282
    },
    "colab_type": "code",
    "id": "bjz5bHN_2_eQ",
    "outputId": "917ac860-37cf-4a88-f7c7-dd16b03b9214"
   },
   "outputs": [
    {
     "data": {
      "text/plain": [
       "<matplotlib.axes._subplots.AxesSubplot at 0x7faa9c5246a0>"
      ]
     },
     "execution_count": 18,
     "metadata": {
      "tags": []
     },
     "output_type": "execute_result"
    },
    {
     "data": {
      "image/png": "[encoded data removed]",
      "text/plain": [
       "<Figure size 432x288 with 1 Axes>"
      ]
     },
     "metadata": {
      "tags": []
     },
     "output_type": "display_data"
    }
   ],
   "source": [
    "# Deaths in Italy\n",
    "deaths.groupby('Territory').sum().loc['Italy'][3:].plot()"
   ]
  },
  {
   "cell_type": "markdown",
   "metadata": {
    "colab_type": "text",
    "id": "8-pkB9h78rFj"
   },
   "source": [
    "## Creating Training data\n",
    "\n",
    "This is how the 'train.csv' file is generated:"
   ]
  },
  {
   "cell_type": "code",
   "execution_count": 31,
   "metadata": {
    "colab": {
     "base_uri": "https://localhost:8080/",
     "height": 197
    },
    "colab_type": "code",
    "id": "OB7RpB1P7qqz",
    "outputId": "62b2928d-d709-4892-8299-0e0ccde48f23",
    "scrolled": true
   },
   "outputs": [
    {
     "data": {
      "text/html": [
       "<div>\n",
       "<style scoped>\n",
       "    .dataframe tbody tr th:only-of-type {\n",
       "        vertical-align: middle;\n",
       "    }\n",
       "\n",
       "    .dataframe tbody tr th {\n",
       "        vertical-align: top;\n",
       "    }\n",
       "\n",
       "    .dataframe thead th {\n",
       "        text-align: right;\n",
       "    }\n",
       "</style>\n",
       "<table border=\"1\" class=\"dataframe\">\n",
       "  <thead>\n",
       "    <tr style=\"text-align: right;\">\n",
       "      <th></th>\n",
       "      <th>Territory X Date</th>\n",
       "      <th>target</th>\n",
       "      <th>cases</th>\n",
       "      <th>Territory</th>\n",
       "      <th>Date</th>\n",
       "    </tr>\n",
       "  </thead>\n",
       "  <tbody>\n",
       "    <tr>\n",
       "      <th>0</th>\n",
       "      <td>Afghanistan X 1/22/20</td>\n",
       "      <td>0</td>\n",
       "      <td>0</td>\n",
       "      <td>Afghanistan</td>\n",
       "      <td>1/22/20</td>\n",
       "    </tr>\n",
       "    <tr>\n",
       "      <th>1</th>\n",
       "      <td>Afghanistan X 1/23/20</td>\n",
       "      <td>0</td>\n",
       "      <td>0</td>\n",
       "      <td>Afghanistan</td>\n",
       "      <td>1/23/20</td>\n",
       "    </tr>\n",
       "    <tr>\n",
       "      <th>2</th>\n",
       "      <td>Afghanistan X 1/24/20</td>\n",
       "      <td>0</td>\n",
       "      <td>0</td>\n",
       "      <td>Afghanistan</td>\n",
       "      <td>1/24/20</td>\n",
       "    </tr>\n",
       "    <tr>\n",
       "      <th>3</th>\n",
       "      <td>Afghanistan X 1/25/20</td>\n",
       "      <td>0</td>\n",
       "      <td>0</td>\n",
       "      <td>Afghanistan</td>\n",
       "      <td>1/25/20</td>\n",
       "    </tr>\n",
       "    <tr>\n",
       "      <th>4</th>\n",
       "      <td>Afghanistan X 1/26/20</td>\n",
       "      <td>0</td>\n",
       "      <td>0</td>\n",
       "      <td>Afghanistan</td>\n",
       "      <td>1/26/20</td>\n",
       "    </tr>\n",
       "  </tbody>\n",
       "</table>\n",
       "</div>"
      ],
      "text/plain": [
       "        Territory X Date  target  cases    Territory     Date\n",
       "0  Afghanistan X 1/22/20       0      0  Afghanistan  1/22/20\n",
       "1  Afghanistan X 1/23/20       0      0  Afghanistan  1/23/20\n",
       "2  Afghanistan X 1/24/20       0      0  Afghanistan  1/24/20\n",
       "3  Afghanistan X 1/25/20       0      0  Afghanistan  1/25/20\n",
       "4  Afghanistan X 1/26/20       0      0  Afghanistan  1/26/20"
      ]
     },
     "execution_count": 31,
     "metadata": {},
     "output_type": "execute_result"
    }
   ],
   "source": [
    "TEST_PERIOD=7\n",
    "train_dates = deaths.columns[6:-TEST_PERIOD] # The dates for the train perion\n",
    "\n",
    "# Grouping by territory\n",
    "country_deaths = deaths.groupby('Territory').sum()[train_dates] \n",
    "country_cases = cases.groupby('Territory').sum()[train_dates] \n",
    "\n",
    "# Creating the dataframe\n",
    "train = pd.DataFrame({\n",
    "    'Territory X Date':list(map((lambda x: ' X '.join(x)), list(country_deaths.stack().index.to_flat_index()))), \n",
    "    'target':country_deaths.stack(),\n",
    "    'cases':country_cases.stack() # Added as they may be useful\n",
    "}).reset_index(drop=True)\n",
    "\n",
    "# Add Separate Region and Date columns\n",
    "train['Territory'] = train['Territory X Date'].apply(lambda x: x.split(' X ')[0])\n",
    "train['Date'] = train['Territory X Date'].apply(lambda x: x.split(' X ')[1])\n",
    "\n",
    "# Saving and viewing\n",
    "train.to_csv('train.csv', index=False)\n",
    "train.head()"
   ]
  },
  {
   "cell_type": "markdown",
   "metadata": {},
   "source": [
    "### Creating test data"
   ]
  },
  {
   "cell_type": "code",
   "execution_count": 34,
   "metadata": {
    "colab": {
     "base_uri": "https://localhost:8080/",
     "height": 197
    },
    "colab_type": "code",
    "id": "OB7RpB1P7qqz",
    "outputId": "62b2928d-d709-4892-8299-0e0ccde48f23"
   },
   "outputs": [
    {
     "data": {
      "text/html": [
       "<div>\n",
       "<style scoped>\n",
       "    .dataframe tbody tr th:only-of-type {\n",
       "        vertical-align: middle;\n",
       "    }\n",
       "\n",
       "    .dataframe tbody tr th {\n",
       "        vertical-align: top;\n",
       "    }\n",
       "\n",
       "    .dataframe thead th {\n",
       "        text-align: right;\n",
       "    }\n",
       "</style>\n",
       "<table border=\"1\" class=\"dataframe\">\n",
       "  <thead>\n",
       "    <tr style=\"text-align: right;\">\n",
       "      <th></th>\n",
       "      <th>Territory X Date</th>\n",
       "      <th>target</th>\n",
       "      <th>cases</th>\n",
       "      <th>Territory</th>\n",
       "      <th>Date</th>\n",
       "    </tr>\n",
       "  </thead>\n",
       "  <tbody>\n",
       "    <tr>\n",
       "      <th>0</th>\n",
       "      <td>Afghanistan X 12/14/20</td>\n",
       "      <td>1969</td>\n",
       "      <td>48718</td>\n",
       "      <td>Afghanistan</td>\n",
       "      <td>12/14/20</td>\n",
       "    </tr>\n",
       "    <tr>\n",
       "      <th>1</th>\n",
       "      <td>Afghanistan X 12/15/20</td>\n",
       "      <td>1995</td>\n",
       "      <td>48952</td>\n",
       "      <td>Afghanistan</td>\n",
       "      <td>12/15/20</td>\n",
       "    </tr>\n",
       "    <tr>\n",
       "      <th>2</th>\n",
       "      <td>Afghanistan X 12/16/20</td>\n",
       "      <td>2011</td>\n",
       "      <td>49161</td>\n",
       "      <td>Afghanistan</td>\n",
       "      <td>12/16/20</td>\n",
       "    </tr>\n",
       "    <tr>\n",
       "      <th>3</th>\n",
       "      <td>Afghanistan X 12/17/20</td>\n",
       "      <td>2025</td>\n",
       "      <td>49378</td>\n",
       "      <td>Afghanistan</td>\n",
       "      <td>12/17/20</td>\n",
       "    </tr>\n",
       "    <tr>\n",
       "      <th>4</th>\n",
       "      <td>Afghanistan X 12/18/20</td>\n",
       "      <td>2030</td>\n",
       "      <td>49621</td>\n",
       "      <td>Afghanistan</td>\n",
       "      <td>12/18/20</td>\n",
       "    </tr>\n",
       "  </tbody>\n",
       "</table>\n",
       "</div>"
      ],
      "text/plain": [
       "         Territory X Date  target  cases    Territory      Date\n",
       "0  Afghanistan X 12/14/20    1969  48718  Afghanistan  12/14/20\n",
       "1  Afghanistan X 12/15/20    1995  48952  Afghanistan  12/15/20\n",
       "2  Afghanistan X 12/16/20    2011  49161  Afghanistan  12/16/20\n",
       "3  Afghanistan X 12/17/20    2025  49378  Afghanistan  12/17/20\n",
       "4  Afghanistan X 12/18/20    2030  49621  Afghanistan  12/18/20"
      ]
     },
     "execution_count": 34,
     "metadata": {},
     "output_type": "execute_result"
    }
   ],
   "source": [
    "\n",
    "test_dates = deaths.columns[-TEST_PERIOD:] # The dates for the train perion\n",
    "\n",
    "# Grouping by territory\n",
    "country_deaths = deaths.groupby('Territory').sum()[test_dates] \n",
    "country_cases = cases.groupby('Territory').sum()[test_dates] \n",
    "\n",
    "# Creating the dataframe\n",
    "test = pd.DataFrame({\n",
    "    'Territory X Date':list(map((lambda x: ' X '.join(x)), list(country_deaths.stack().index.to_flat_index()))), \n",
    "    'target':country_deaths.stack(),\n",
    "    'cases':country_cases.stack() # Added as they may be useful\n",
    "}).reset_index(drop=True)\n",
    "\n",
    "# Add Separate Region and Date columns\n",
    "test['Territory'] = test['Territory X Date'].apply(lambda x: x.split(' X ')[0])\n",
    "test['Date'] = test['Territory X Date'].apply(lambda x: x.split(' X ')[1])\n",
    "\n",
    "# Saving and viewing\n",
    "test.to_csv('test.csv', index=False)\n",
    "test.head()"
   ]
  }
 ],
 "metadata": {
  "colab": {
   "collapsed_sections": [],
   "name": "Covid-19-Data-Prep-Allcountries.ipynb",
   "provenance": []
  },
  "kernelspec": {
   "display_name": "Python 3",
   "language": "python",
   "name": "python3"
  },
  "language_info": {
   "codemirror_mode": {
    "name": "ipython",
    "version": 3
   },
   "file_extension": ".py",
   "mimetype": "text/x-python",
   "name": "python",
   "nbconvert_exporter": "python",
   "pygments_lexer": "ipython3",
   "version": "3.8.3"
  }
 },
 "nbformat": 4,
 "nbformat_minor": 1
}
